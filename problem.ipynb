{
 "cells": [
  {
   "cell_type": "code",
   "execution_count": 1,
   "metadata": {},
   "outputs": [],
   "source": [
    "# Colin Crowe 5/8/2022\n",
    "\n",
    "import random\n",
    "import utils\n",
    "import numpy as np\n",
    "import matplotlib.pyplot as plt"
   ]
  },
  {
   "cell_type": "markdown",
   "metadata": {},
   "source": [
    "Welcome!\n",
    "\n",
    "This jupyter notebook will serve as an introduction to Chargaff's Second parity rule. I will explain what the problem is, and why it is so mystifying. I reccomend that you read this file first, before diving in to possible explanations.\n",
    "\n",
    "First, DNA comes in two strands made up of four types of \"building blocks\" called nucleoties: A, T, C, and G. Whenever an 'A' appears in one strand, you're guaranteed to find a 'T' accross from it in the second strand, and the same goes for 'C' and 'G'.\n",
    "\n",
    "This is called Chargaff's First Parity Rule, and it has some consequences. Notably for us, here are two:\n",
    " - If you were to count up all the occurances of A, T, C, and G in a piece of DNA, you'd end up with an equal number of A's and T's and an equal number of C's and G's. This is because, any time an A in one strand, there must also be a T in the other, so the number of nucleotides must necessarially be the same for both.\n",
    " - You can access all the information contained by DNA from just one strand, since, if you have one strand, you know what is encoded in the other.\n",
    " \n",
    "That last one is why online databases of DNA only encode one strand. For example, here's the Homo Sapien BRCA1 gene:"
   ]
  },
  {
   "cell_type": "code",
   "execution_count": 2,
   "metadata": {},
   "outputs": [],
   "source": [
    "BRCA1 = utils.read_BRCA1()\n",
    "# print(BRCA1) # <--- uncomment this if you want to see the whole thing!"
   ]
  },
  {
   "cell_type": "markdown",
   "metadata": {},
   "source": [
    "There's no indication of the second strand, nor does there need to be - we don't have to encode both in our databases. Still it doesn't hurt to mess around a little, so I counted up all the A, T, C, and G in this single strand to see how many there were of each:"
   ]
  },
  {
   "cell_type": "code",
   "execution_count": 3,
   "metadata": {},
   "outputs": [
    {
     "name": "stdout",
     "output_type": "stream",
     "text": [
      "A: 45530 | T: 47063\n",
      "C: 33856 | G: 35761\n"
     ]
    }
   ],
   "source": [
    "a, t, c, g = 0, 0, 0 ,0\n",
    "for i in BRCA1:\n",
    "    if i == 'C':\n",
    "        c += 1\n",
    "    elif i == 'G':\n",
    "        g += 1\n",
    "    elif i == 'A':\n",
    "        a += 1\n",
    "    else:\n",
    "        t += 1\n",
    "        \n",
    "        \n",
    "print('A:', a, \"|\", 'T:', t)\n",
    "print('C:', c, \"|\", 'G:', g)"
   ]
  },
  {
   "cell_type": "code",
   "execution_count": 4,
   "metadata": {},
   "outputs": [
    {
     "data": {
      "text/plain": [
       "Text(0, 0.5, 'Frequency')"
      ]
     },
     "execution_count": 4,
     "metadata": {},
     "output_type": "execute_result"
    },
    {
     "data": {
      "image/png": "[encoded data removed]",
      "text/plain": [
       "<Figure size 432x288 with 1 Axes>"
      ]
     },
     "metadata": {
      "needs_background": "light"
     },
     "output_type": "display_data"
    }
   ],
   "source": [
    "data = [a, t, c, g]\n",
    "X = np.arange(2)\n",
    "fig = plt.figure()\n",
    "ax = fig.add_axes([0,0,1.5,1.5])\n",
    "ax.bar(X[0] - 0.2, data[0], color = '#7eb54e', width = 0.4)\n",
    "ax.bar(X[0] + 0.2, data[1], color = 'g', width = 0.4)\n",
    "ax.bar(X[1] - 0.2, data[2], color = '#7eb54e', width = 0.4)\n",
    "ax.bar(X[1] + 0.2, data[3], color = 'g', width = 0.4)\n",
    "ax.bar(['A      T','C      G'], [0,0])\n",
    "ax.set_ylabel('Frequency')"
   ]
  },
  {
   "cell_type": "markdown",
   "metadata": {},
   "source": [
    "...weird!\n",
    "\n",
    "As you can see, even when looking at single-stranded DNA, we observe an equal number of A's and T's, and an equal number of C's and G's. This is called Chargaff's Second Parity Rule, and, unlike the first, we don't really know why this happens.\n",
    "\n",
    "But that's not all, because this problem also extends to longer sequences, too. \n",
    "\n",
    "If you take a sequence, flip all the nucleotides (so 'A' becomes 'T', 'C' becomes 'G', and vice-versa for both), and reverse the order, then you end up with what's called that sequence's \"reverse compliment\".\n",
    "\n",
    "Here's a graph showing the frequencies of all sequences of length 3 (\"3-mers\") along with their reverse compliments in the BRCA1 genome:"
   ]
  },
  {
   "cell_type": "code",
   "execution_count": 8,
   "metadata": {},
   "outputs": [
    {
     "data": {
      "text/plain": [
       "<matplotlib.legend.Legend at 0x24e618cd430>"
      ]
     },
     "execution_count": 8,
     "metadata": {},
     "output_type": "execute_result"
    },
    {
     "data": {
      "image/png": "[encoded data removed]",
      "text/plain": [
       "<Figure size 432x288 with 1 Axes>"
      ]
     },
     "metadata": {
      "needs_background": "light"
     },
     "output_type": "display_data"
    }
   ],
   "source": [
    "three_mers = utils.get_3mers()\n",
    "tmer_count = []\n",
    "rc_count = []\n",
    "for i in three_mers:\n",
    "    tmer, rc = utils.get_kmer_rc_count(BRCA1, i)\n",
    "    tmer_count.append(tmer)\n",
    "    rc_count.append(rc)\n",
    "    \n",
    "empty = []\n",
    "for i in range(32):\n",
    "    empty.append(0)\n",
    "\n",
    "data = [tmer_count, rc_count]\n",
    "X = np.arange(32)\n",
    "fig = plt.figure()\n",
    "ax = fig.add_axes([0,0,2,2])\n",
    "ax.bar(X - 0.2, data[0], color = '#7eb54e', width = 0.4)\n",
    "ax.bar(X + 0.2, data[1], color = 'g', width = 0.4)\n",
    "ax.bar(three_mers, empty)\n",
    "ax.set_ylabel('Frequency')\n",
    "plt.legend(['3-mer Frequency', 'RC Frequency'],loc=1,prop={'size': 14})"
   ]
  },
  {
   "cell_type": "markdown",
   "metadata": {},
   "source": [
    "As you can see, it's not perfect, but the trend is undeniable; more often than not, we see the same number of sequences compared to their reverse compliments.\n",
    "\n",
    "We don't have a working theory to explain wy this happens, but we do have some ideas. The rest of this repo is an exploration into those other ideas. From here, I recommend you check out \"random\", but any three of \"random\", \"inversion\", or \"entropy\" are understandable at this point."
   ]
  },
  {
   "cell_type": "code",
   "execution_count": null,
   "metadata": {},
   "outputs": [],
   "source": []
  }
 ],
 "metadata": {
  "kernelspec": {
   "display_name": "Python 3",
   "language": "python",
   "name": "python3"
  },
  "language_info": {
   "codemirror_mode": {
    "name": "ipython",
    "version": 3
   },
   "file_extension": ".py",
   "mimetype": "text/x-python",
   "name": "python",
   "nbconvert_exporter": "python",
   "pygments_lexer": "ipython3",
   "version": "3.8.3"
  }
 },
 "nbformat": 4,
 "nbformat_minor": 4
}
